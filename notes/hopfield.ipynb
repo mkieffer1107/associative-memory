{
 "cells": [
  {
   "cell_type": "markdown",
   "metadata": {},
   "source": [
    "---\n",
    "\n",
    "# Hopfield Networks\n",
    "\n",
    "\n",
    "Welcome, dear readers. Please note that I will \"quote\" [Introduction to the Theory of Neural Computation Textbook](https://nessie.ilab.sztaki.hu/~kornai/2020/AdvancedMachineLearning/Hertz_Krogh_Palmer__IntroToNeuralComp.pdf) as \"The Book\"\n",
    "\n",
    "---"
   ]
  },
  {
   "cell_type": "markdown",
   "metadata": {},
   "source": [
    "### Associative Memory\n",
    "\n",
    "A Hopfield network is a type of recurrent neural network that demonstrates [auto-associative memory](https://en.wikipedia.org/wiki/Autoassociative_memory). Simply put, it is a network with symmetric connections that, when given a partial pattern as a seed, will iterate itself until some full pattern is recovered. In this way, it associates the full pattern with the hint that it received. \n",
    "\n",
    "<div class=\"alert alert-info\">\n",
    "<!-- <div class=\"alert alert-success\"> -->\n",
    "\n",
    "  **The Problem of Associative Memory**:\n",
    "  Store a set of $p$ patterns $\\xi^\\mu_i$ in such a way that when presented with a new pattern $\\zeta_i$, the network responds by producing whichever one of the stored patterns most closely resembles $\\zeta_i$.\n",
    "  The patterns are labeled by $\\mu = 1, 2, \\ldots, p$, and the neurons in the network are labeled by $i = 1, 2, \\ldots, N$. Both the stored patterns $\\xi^\\mu_i$ and the test patterns $\\zeta_i$ can be taken to be either $0$ or $1$ on each site $i$.\n",
    "  \n",
    "  The Book\n",
    "</div>\n",
    "\n",
    "\n",
    "\n",
    "[Bidirectional associative memory](https://en.wikipedia.org/wiki/Bidirectional_associative_memory)"
   ]
  },
  {
   "cell_type": "markdown",
   "metadata": {},
   "source": []
  },
  {
   "cell_type": "code",
   "execution_count": null,
   "metadata": {},
   "outputs": [],
   "source": []
  }
 ],
 "metadata": {
  "language_info": {
   "name": "python"
  }
 },
 "nbformat": 4,
 "nbformat_minor": 2
}
