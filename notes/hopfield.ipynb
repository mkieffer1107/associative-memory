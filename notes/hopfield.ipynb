{
 "cells": [
  {
   "cell_type": "markdown",
   "metadata": {},
   "source": [
    "# Hopfield Networks\n",
    "---"
   ]
  },
  {
   "cell_type": "markdown",
   "metadata": {},
   "source": [
    "A Hopfield network is a type of recurrent neural network that demonstrates [autoassociative memory](https://en.wikipedia.org/wiki/Autoassociative_memory). Simply put, given a partial \n",
    "\n",
    "[Bidirectional associative memory](https://en.wikipedia.org/wiki/Bidirectional_associative_memory)"
   ]
  },
  {
   "cell_type": "code",
   "execution_count": null,
   "metadata": {},
   "outputs": [],
   "source": []
  }
 ],
 "metadata": {
  "language_info": {
   "name": "python"
  }
 },
 "nbformat": 4,
 "nbformat_minor": 2
}
